{
 "cells": [
  {
   "cell_type": "markdown",
   "id": "a99323cf",
   "metadata": {},
   "source": [
    "# Background"
   ]
  },
  {
   "cell_type": "markdown",
   "id": "14e48d2c",
   "metadata": {},
   "source": [
    "**C**yber-**P**hysical **S**ystems (**CPSs**) are physical and engineered systems whose operations are **monitored**, **coordinated**, and **integrated** by a computing and communication core. CPSs are complex systems with the integration of **computation**, **communication**, and **control** (**3C**).\n",
    "\n",
    "In this course, students are introduced to the fundamentals of CPSs, including the architecture of CPSs, modelling in continuous time, and the interface between the physical (continuous) and cyber (discrete) worlds. Basis of control theory, sensors and actuators, will be presented."
   ]
  }
 ],
 "metadata": {
  "language_info": {
   "name": "python"
  }
 },
 "nbformat": 4,
 "nbformat_minor": 5
}
