{
 "cells": [
  {
   "cell_type": "markdown",
   "id": "a99323cf",
   "metadata": {},
   "source": [
    "# Additional Reading"
   ]
  },
  {
   "cell_type": "markdown",
   "id": "7f912b50",
   "metadata": {},
   "source": [
    "# Vehicle-to-Everything (V2X) Communications\n",
    "- U.S. Department of Transportation [website](https://www.transportation.gov/v2x)\n",
    "- A journal paper by Rehman et al with [an overview of V2X](https://doi.org/10.1016/j.est.2023.109304)"
   ]
  }
 ],
 "metadata": {
  "language_info": {
   "name": "python"
  }
 },
 "nbformat": 4,
 "nbformat_minor": 5
}
