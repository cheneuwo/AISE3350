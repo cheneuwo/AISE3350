{
 "cells": [
  {
   "cell_type": "markdown",
   "id": "a99323cf",
   "metadata": {},
   "source": [
    "# Additional Reading"
   ]
  },
  {
   "cell_type": "markdown",
   "id": "7f912b50",
   "metadata": {},
   "source": [
    "# Vehicle-to-Everything (V2X) Communications"
   ]
  }
 ],
 "metadata": {
  "language_info": {
   "name": "python"
  }
 },
 "nbformat": 4,
 "nbformat_minor": 5
}
