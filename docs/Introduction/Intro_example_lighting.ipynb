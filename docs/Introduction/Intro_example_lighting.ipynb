{
 "cells": [
  {
   "cell_type": "markdown",
   "id": "a99323cf",
   "metadata": {},
   "source": [
    "# CPS examples: Smart Lighting Systems"
   ]
  },
  {
   "cell_type": "markdown",
   "id": "746d0bf5",
   "metadata": {},
   "source": [
    "![test](./../imgs/Introduction/street-lights-2-e1688439229794.jpg)\n",
    "\n",
    "[Image courtesy](https://www.robustel.com/wp-content/uploads/2023/01/street-lights-2-e1688439229794.jpg), Accessed on September 9, 2025"
   ]
  },
  {
   "cell_type": "markdown",
   "id": "6fbaf5f7",
   "metadata": {},
   "source": [
    "**Smart lighting is a system** of public lights that integrate IoT technologies to lower their energy consumption. Powered with sensors, video surveillance capabilities and complex algorithms, these smart lighting systems can be controlled from a remote location and adjusted depending on the needs of the space. These networks are often deployed in cities and buildings, however, there are also uses for smart lighting in homes - on a much smaller scale. "
   ]
  },
  {
   "cell_type": "markdown",
   "id": "23a521ff",
   "metadata": {},
   "source": [
    "## What does smart lighting mean?\n",
    "\n",
    "[Sources from IEEE](https://smartlighting.ieee.org/topics-ai/sml1-understanding-smart-lighting)\n",
    "\n",
    "Smart lighting encompasses a myriad of characteristics that serve to enhance its functionality and sustainability. The following are some of the most noteworthy attributes of this innovative lighting solution:\n",
    "1. **Energy efficiency**: Smart lighting systems are designed to optimize energy usage, thereby minimizing wastage and reducing overall consumption. This is achieved through the utilization of energy-efficient lighting sources, such as LED lighting, Compact fluorescent lamps (CFLs), and the implementation of advanced control mechanisms that enable the system to adapt to various factors in real-time.\n",
    "1. **Adaptability**: One of the hallmarks of smart lighting is its ability to dynamically adjust to changing conditions, such as variations in ambient light, occupancy, and user preferences. This adaptability allows the system to provide optimal lighting conditions at all times while minimizing energy usage.\n",
    "1. **Connectivity**: Smart lighting systems are typically integrated with a network, allowing for remote control and monitoring via a central hub or a connected device such as a smartphone. This connectivity also enables seamless integration with other smart light devices and systems, further enhancing the functionality and convenience of the lighting system.\n",
    "1. **Customizability**: With smart lighting, users can tailor the system to their specific preferences and requirements, such as setting schedules, creating scenes, or adjusting color temperature. This level of customization not only enhances user experience but also contributes to energy efficiency.\n",
    "1. **Sustainability**: By significantly reducing energy consumption, smart lighting systems inherently contribute to sustainability efforts, helping to minimize the environmental impact of lighting."
   ]
  },
  {
   "cell_type": "markdown",
   "id": "097934f7",
   "metadata": {},
   "source": [
    "**So, what sensors and actuators are requires to implement a smart lighting system**?"
   ]
  }
 ],
 "metadata": {
  "language_info": {
   "name": "python"
  }
 },
 "nbformat": 4,
 "nbformat_minor": 5
}
