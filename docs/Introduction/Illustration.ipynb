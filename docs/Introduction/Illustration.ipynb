{
 "cells": [
  {
   "cell_type": "markdown",
   "id": "a99323cf",
   "metadata": {},
   "source": [
    "# Graphysical Illustration"
   ]
  },
  {
   "cell_type": "markdown",
   "id": "07dba40c",
   "metadata": {},
   "source": [
    "Imagine a system consisting of two main blocks, one corresponding to the *Physics*, the other *Cyber*."
   ]
  }
 ],
 "metadata": {
  "language_info": {
   "name": "python"
  }
 },
 "nbformat": 4,
 "nbformat_minor": 5
}
