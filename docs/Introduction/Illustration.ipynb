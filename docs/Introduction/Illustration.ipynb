{
 "cells": [
  {
   "cell_type": "markdown",
   "id": "a99323cf",
   "metadata": {},
   "source": [
    "# Graphysical Illustration"
   ]
  },
  {
   "cell_type": "markdown",
   "id": "07dba40c",
   "metadata": {},
   "source": [
    "Imagine a system consisting of two main blocks, one corresponding to the *Physics*, the other *Cyber*."
   ]
  },
  {
   "cell_type": "markdown",
   "id": "cf6c7187",
   "metadata": {},
   "source": [
    "![test](./../imgs/Introduction/CPS_Intro_1.png)"
   ]
  },
  {
   "cell_type": "markdown",
   "id": "ad8db6d6",
   "metadata": {},
   "source": [
    "When we design the physical component of a system, we need to keep an eye on how the *cyber* component of the system plays a role."
   ]
  },
  {
   "cell_type": "markdown",
   "id": "d3119ec6",
   "metadata": {},
   "source": [
    "![test](./../imgs/Introduction/CPS_Intro_2.png)"
   ]
  },
  {
   "cell_type": "markdown",
   "id": "efe818e1",
   "metadata": {},
   "source": [
    "These two components are interconnected, representing how information flow from the physical to the cyber component, and from the cyber to the physical component."
   ]
  },
  {
   "cell_type": "markdown",
   "id": "05951de5",
   "metadata": {},
   "source": [
    "The nature of these information may differ from each others; therefore it may be necessary to convert the information (i.e. the signal) from one form to another.\n",
    "\n",
    "There may be a network between them, so we need to add an interface between them:"
   ]
  },
  {
   "cell_type": "markdown",
   "id": "d752d75b",
   "metadata": {},
   "source": [
    "![test](./../imgs/Introduction/CPS_Intro_3.png)"
   ]
  },
  {
   "cell_type": "markdown",
   "id": "b4aad4ac",
   "metadata": {},
   "source": [
    "The interface defines how the signal is translated/converted between these two components."
   ]
  },
  {
   "cell_type": "markdown",
   "id": "9ece42e1",
   "metadata": {},
   "source": [
    "These interfaces can be network(s) or converter(s). For example, from the *physical* to the *cyber* component, the converter may be an *analog-to-digital* (ADC) converter; from the *cyber* to the *physical* component, a *digital-to-analog* (DAC) converter. "
   ]
  },
  {
   "cell_type": "markdown",
   "id": "32e13f77",
   "metadata": {},
   "source": [
    "![test](./../imgs/Introduction/CPS_Intro_4.png)"
   ]
  },
  {
   "cell_type": "markdown",
   "id": "03709830",
   "metadata": {},
   "source": [
    "Our goal is to understand how to design these components so that the entire interconnection evolves over time in an intended manner."
   ]
  },
  {
   "cell_type": "markdown",
   "id": "14f56696",
   "metadata": {},
   "source": [
    "Concretely, these interface can be a set of **sensors** and **actuators**:"
   ]
  },
  {
   "cell_type": "markdown",
   "id": "58a53188",
   "metadata": {},
   "source": [
    "![test](./../imgs/Introduction/CPS_Intro_5.png)"
   ]
  },
  {
   "cell_type": "markdown",
   "id": "dad44246",
   "metadata": {},
   "source": [
    "The physical state/characteristics of a process can be measured by a set of **sensors**, which in turn, *translate* these states into digital signals that serves as inputs for computation.\n",
    "\n",
    "The computation, in turn, provides a set of instructions with the intention of changing the state of the physics, *executed* by a set of **actuators**."
   ]
  }
 ],
 "metadata": {
  "language_info": {
   "name": "python"
  }
 },
 "nbformat": 4,
 "nbformat_minor": 5
}
