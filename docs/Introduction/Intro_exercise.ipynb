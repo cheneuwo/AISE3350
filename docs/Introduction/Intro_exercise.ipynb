{
 "cells": [
  {
   "cell_type": "markdown",
   "id": "a99323cf",
   "metadata": {},
   "source": [
    "# Exercise\n",
    "- ask a question about time-of-light, i.e. if it take xyz ms for a radio wave to reflect back to the sensor, what's the distance."
   ]
  }
 ],
 "metadata": {
  "language_info": {
   "name": "python"
  }
 },
 "nbformat": 4,
 "nbformat_minor": 5
}
