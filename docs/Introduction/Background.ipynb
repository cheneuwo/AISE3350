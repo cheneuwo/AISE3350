{
 "cells": [
  {
   "cell_type": "markdown",
   "id": "a99323cf",
   "metadata": {},
   "source": [
    "# Introduction to Cyber-Physical Systems (CPSs)"
   ]
  },
  {
   "cell_type": "markdown",
   "id": "25140896",
   "metadata": {},
   "source": [
    "According to Lee and Seshia {cite}`LS2016`, the term **Cyber-Physical Systems** (CPSs) was first coined by Helen Gill around 2006, at the National Science Foundation (NSF) in the United States, to refer to the integration of computation with physical processes. Often, they include a communication, i.e., networking, aspect. CPSs are physical and engineered systems whose operations are **monitored**, **coordinated**, and **integrated** by a computing and communication core. They are complex systems that integrate **computation**, **communication**, and **control** (**3C**)."
   ]
  },
  {
   "cell_type": "markdown",
   "id": "3138bc1a",
   "metadata": {},
   "source": [
    "You can find one of the earliest presention she gave on CPSs {download}`here<./../docs/Gill_CMU_Electrical_Power_2008_Cyber_Physical_Systems_A_Progress Report.pdf>`."
   ]
  },
  {
   "cell_type": "markdown",
   "id": "feb2c884",
   "metadata": {},
   "source": [
    "Cyber-Physical Systems can be physical, biological, and engineering systems that are **built from** and **depend upon** the seamless integration of computation (*cyber*) and physical (*physical*) components. These components of CPSs are networked at every scale. There is a tight integration of computing into every physical component, possibly even into materials. The computational core is an *embedded system*, usually demands *real-time* response, and is most often *distributed*. \n",
    "\n",
    "The behaviour of a cyber-physical system is a fully-integrated hybridization of computational (logical/cyber) and physical actions:\n",
    "- The **physics** is typically related to the tangible part of the system, and many times we refer to the physical component under the term *plant*, *process*, or *system* in engineering,\n",
    "- The **cyber** is related to the *computational component*, *software*, or *code*,\n",
    "- These two components are **tightly interconnected**, hence *potentially* networked."
   ]
  },
  {
   "cell_type": "markdown",
   "id": "106ebd60",
   "metadata": {},
   "source": [
    "In this course, students are introduced to the fundamentals of CPSs, including the architecture of CPSs, modelling in continuous time, and the interface between the physical (continuous) and cyber (discrete) worlds. Basis of control theory, sensors and actuators, will be presented."
   ]
  }
 ],
 "metadata": {
  "language_info": {
   "name": "python"
  }
 },
 "nbformat": 4,
 "nbformat_minor": 5
}
