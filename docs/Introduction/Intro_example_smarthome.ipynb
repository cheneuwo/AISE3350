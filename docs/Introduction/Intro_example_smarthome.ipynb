{
 "cells": [
  {
   "cell_type": "markdown",
   "id": "a99323cf",
   "metadata": {},
   "source": [
    "# CPS examples: Smart Home"
   ]
  },
  {
   "cell_type": "markdown",
   "id": "746d0bf5",
   "metadata": {},
   "source": [
    "![test](./../imgs/Introduction/csm_M-IGE-19020_Ansichts-PDF_ISH_2019_Systemhaus_mit_Icons_grau_16052019_3e1dba7378.jpg)\n",
    "\n",
    "[Image courtesy](https://ehi.eu/wp-content/uploads/2022/01/csm_M-IGE-19020_Ansichts-PDF_ISH_2019_Systemhaus_mit_Icons_grau_16052019_3e1dba7378.jpg), Accessed on September 9, 2025"
   ]
  },
  {
   "cell_type": "markdown",
   "id": "1227cba6",
   "metadata": {},
   "source": [
    "A **[smart home](https://en.wikipedia.org/wiki/Home_automation)**, **home automation**, or **domotics** is building automation for a home. A home automation system will monitor and/or control home attributes such as lighting, climate, entertainment systems, and appliances. It may also include home security such as access control and alarm system. The term *smart home* refers to home automation devices that have internet access."
   ]
  },
  {
   "cell_type": "markdown",
   "id": "4070379a",
   "metadata": {},
   "source": [
    "Walking around campus building, what aspects of campus building has been *automated*? "
   ]
  }
 ],
 "metadata": {
  "language_info": {
   "name": "python"
  }
 },
 "nbformat": 4,
 "nbformat_minor": 5
}
