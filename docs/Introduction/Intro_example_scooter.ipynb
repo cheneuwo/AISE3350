{
 "cells": [
  {
   "cell_type": "markdown",
   "id": "a99323cf",
   "metadata": {},
   "source": [
    "# CPS Example: Self-Balancing Scooter"
   ]
  },
  {
   "cell_type": "markdown",
   "id": "ac6d7adf",
   "metadata": {},
   "source": [
    "To understand what makes CPS distinctive, consider the seemingly simple motorized scooter known as the [Segway](https://en.wikipedia.org/wiki/Segway), which became commercially available in 2001—predating the formal CPS terminology but exemplifying its core principles."
   ]
  },
  {
   "cell_type": "markdown",
   "id": "44c0e39a",
   "metadata": {},
   "source": [
    "<iframe width=\"560\" height=\"315\" src=\"https://www.youtube.com/embed/nu4V_XDQKrk?si=pTjWiz385K7i8nCp\" title=\"YouTube video player\" frameborder=\"0\" allow=\"accelerometer; autoplay; clipboard-write; encrypted-media; gyroscope; picture-in-picture; web-share\" referrerpolicy=\"strict-origin-when-cross-origin\" allowfullscreen></iframe>\n",
    "\n",
    "(The direct link to YouTube [video](https://youtu.be/nu4V_XDQKrk?si=iTz0zsRIJExTmZtX), accessed September 9, 2025)"
   ]
  },
  {
   "cell_type": "markdown",
   "id": "11af4cd2",
   "metadata": {},
   "source": [
    "At first glance,, the *self-balancing* scooter appears to be merely a platform with two wheels and a handle, yet its operations reveals the tight integration that defines the cyber-physical systems. The scooter continuously *monitors* the rider's position through an array of miniature **sensors** including\n",
    "- *[Gyroscopes](https://en.wikipedia.org/wiki/Gyroscope)* that monitors rotational movement,\n",
    "- *[Accelerometers](https://en.wikipedia.org/wiki/Accelerometer)* that measures tile, and\n",
    "- *Speed* sensors that track wheel rotation."
   ]
  },
  {
   "cell_type": "markdown",
   "id": "70dcc211",
   "metadata": {},
   "source": [
    "These physical measurements are translated into digital signals and fed into a computation core, i.e. a **control board**, that acts as the system's brain, processing this real-time data to determine the precise motor commands needed to maintain balance and respond to the rider's intended movements."
   ]
  },
  {
   "cell_type": "markdown",
   "id": "3999b01d",
   "metadata": {},
   "source": [
    "The *physical* components of a self-balancing scooter includes **actuators** such as\n",
    "- Electric motor(s) that provides propulsion and actuates other parts of the scooter."
   ]
  },
  {
   "cell_type": "markdown",
   "id": "c093b598",
   "metadata": {},
   "source": [
    "Thus, the control board serves, in addition as a connection between the sensing and actuation domains, the computational core by implementing algorithms that respond to changing physical conditions, often within milli-seconds, and instruct the actuators to respond rider's movement or intentions: When a rider leans forward, the sensors detect this shift in weight distribution and communicate it to the control board, which in turns sends signals to electric motors that propel the wheels forward at the precisely the speed needed to keep the rider upright."
   ]
  },
  {
   "cell_type": "markdown",
   "id": "563ffea8",
   "metadata": {},
   "source": [
    "This closed-loop feedback system is sometimes compared to the working of the *inner ear*, the *brain*, and the *muscular* system of a human body, and exemplified the tight coupling between physical processes and the computational control that characterizes CPS. That is, the physical state directly influences computation, while computational decisions immediately affect the behaviour of the physical components."
   ]
  }
 ],
 "metadata": {
  "language_info": {
   "name": "python"
  }
 },
 "nbformat": 4,
 "nbformat_minor": 5
}
