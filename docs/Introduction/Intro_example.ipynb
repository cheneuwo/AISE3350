{
 "cells": [
  {
   "cell_type": "markdown",
   "id": "a99323cf",
   "metadata": {},
   "source": [
    "# CPS Example"
   ]
  },
  {
   "cell_type": "markdown",
   "id": "ac6d7adf",
   "metadata": {},
   "source": [
    "Considera"
   ]
  }
 ],
 "metadata": {
  "language_info": {
   "name": "python"
  }
 },
 "nbformat": 4,
 "nbformat_minor": 5
}
