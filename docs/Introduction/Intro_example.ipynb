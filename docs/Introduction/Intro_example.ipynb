{
 "cells": [
  {
   "cell_type": "markdown",
   "id": "a99323cf",
   "metadata": {},
   "source": [
    "# CPS Example"
   ]
  },
  {
   "cell_type": "markdown",
   "id": "ac6d7adf",
   "metadata": {},
   "source": [
    "To understand what makes CPS distinctive, consider the seemingly simple motorized scooter known as the [Segway](https://en.wikipedia.org/wiki/Segway), which became commercially available in 2001—predating the formal CPS terminology but exemplifying its core principles."
   ]
  },
  {
   "cell_type": "markdown",
   "id": "44c0e39a",
   "metadata": {},
   "source": [
    "z"
   ]
  }
 ],
 "metadata": {
  "language_info": {
   "name": "python"
  }
 },
 "nbformat": 4,
 "nbformat_minor": 5
}
