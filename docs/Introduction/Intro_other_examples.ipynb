{
 "cells": [
  {
   "cell_type": "markdown",
   "id": "a99323cf",
   "metadata": {},
   "source": [
    "# CPS examples: others"
   ]
  },
  {
   "cell_type": "markdown",
   "id": "746d0bf5",
   "metadata": {},
   "source": [
    "![test](./../imgs/Introduction/smart-navigation-robot.jpg)\n",
    "\n",
    "[Image courtesy](https://www.aitimejournal.com/wp-content/uploads/2021/05/smart-navigation-robot.jpg), Accessed on September 9, 2025"
   ]
  }
 ],
 "metadata": {
  "language_info": {
   "name": "python"
  }
 },
 "nbformat": 4,
 "nbformat_minor": 5
}
