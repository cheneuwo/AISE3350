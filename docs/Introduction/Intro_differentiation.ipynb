{
 "cells": [
  {
   "cell_type": "markdown",
   "id": "a99323cf",
   "metadata": {},
   "source": [
    "# Is CPS New?  \n",
    "\n",
    "[Source](https://link.springer.com/book/10.1007/978-3-030-36071-9)"
   ]
  },
  {
   "cell_type": "markdown",
   "id": "a9800f78",
   "metadata": {},
   "source": [
    "While the term **Cyber-Physical Systems** emerged relatively recently with Helen Gill's articulation in 2006, the underlying technologies and concepts have deep roots in several established computing and engineering disciplines. This raises a fundamental question: does CPS represent a genuinely novel paradigm, or is it simply a rebranding of existing approaches under a new conceptual umbrella? To answer this question, it is essential to examine how CPS relates to and differs from closely related fields that have influenced its development.\n",
    "\n",
    "The most prominent among these related paradigms are **hybrid systems**, **embedded systems**, **real-time systems**, and **control systems**:\n",
    "\n",
    "A **hybrid system** is a mathematical model that features both continuous and discrete behaviours. While many CPSs can be modelled mathematically as hybrid systems, it is important to distinguish between the concept of the actual, physical system and its mathematical models and the techniques used to study such. It is a common mistake to think of models of physical system as continuous and models of computational systems as discrete:\n",
    "- Models of physical systems can be continuous, discrete, and a combination of both. For example,\n",
    "  - [Bohr model](https://en.wikipedia.org/wiki/Bohr_model) introduced the notion that electronics can only exist in discretely different orbits around the necleus of an atom, planting the seed for quantum mechanical models. However, at quantum leve, many phenomena cannot simply be viewed as either continuous nor discrete systems: rather, they are better explained as probablistic systems.\n",
    "  - Computational system cannot always be viewed as purely discrete systems:\n",
    "    - digital computers are generally implemented as continuous electronic circuits designed to operate reliably only when viewed as discrete systems,\n",
    "    - Also, [analog computers](https://en.wikipedia.org/wiki/Analog_computer) are continuous systems."
   ]
  },
  {
   "cell_type": "markdown",
   "id": "cd431289",
   "metadata": {},
   "source": [
    "An **embedded system** is a computational system embedded in a physical system: any CPS contains an embedded system. The main distinction is that the term “embedded system” reflects a primary focus on the computational component (that is embedded in a larger, physical system). Traditionally, research on embedded systems focused on problems such as formal verification of discrete systems (automata), hardware design, minimization of energy consumption and production cost, as well as embedded software development. The CPS view emphasizes the importance of taking into account the physical context of the computational system which is often necessary to design, test, and verify the functionality that we are developing."
   ]
  },
  {
   "cell_type": "markdown",
   "id": "a276a13c",
   "metadata": {},
   "source": [
    "A **real-time system** is one which must respond to external changes within certain timing constraints. Many, but not all, real-time systems are embedded systems. For example, an automated trading agent would not normally be viewed as an embedded system, even though it must operate under strict timing constraints if it is to function usefully in response to rapidly changing market conditions. Traditionally, research in real-time systems has focused on scheduling or real-time tasks in systems that have periodic or aperiodic request patterns, multiple (interchangeable) computational resources, tasks of varying priorities, and real-time communication.Naturally, research in this area often focuses on worst case run time requirements. A CPS may or may not be a real-time system: The control system in a car has real-time constraints, but the sound system does not necessarily have such."
   ]
  },
  {
   "cell_type": "markdown",
   "id": "0c5f9b61",
   "metadata": {},
   "source": [
    "**Reliability** is the ability of a system to continue to perform its function despite the failure of some of its components. Reliability can be achieved in several ways, starting from building components from stronger materials to adding redundancy and error-checking to detect and try to compensate for errors and failures. In many domains, including computational systems, probabilistic methods have been used effectively to increase reliability, while keeping costs manageable. Probabilistic methods, however, are only one tool for designing and constructing reliable systems. Mastery of other more fundamental concepts in systems design allows us to become more effective users of probabilistic methods. Different CPSs have differing reliability demands, and reliability need not feature prominently in the development of all individual CPSs. However, in general, as connectivity between different CPSs increases, there is also an increasing need to consider system-wide reliability implications for each type of individual cyber-physical subsystems."
   ]
  },
  {
   "cell_type": "markdown",
   "id": "ee566049",
   "metadata": {},
   "source": [
    "**Dependability** is a more holistic notion that can encompass several related attributes, such as availability, reliability, durability, safety, security, integrity, and maintainability. In the context of the interdisciplinary field of systems engineering, it is viewed as a measure of these combined attributes. Systems engineering is often viewed as a field of both engineering and engineering management, reflecting its unique point of view between what is traditionally engineering and traditionally management. We see both systems engineering and dependability as of great importance for inventors and innovators, and that the content covered in this book will give the reader a solid foundation to pursue further studies in these disciplines."
   ]
  },
  {
   "cell_type": "markdown",
   "id": "58e810fb",
   "metadata": {},
   "source": [
    "Finally, CPS is closely related to the disciplines of **mechatronics**, **control theory**, **robotics**, and the **Internet of Things (IoT)**. A common feature of these disciplines is that they are highly interdisciplinary. CPS can be viewed as an attempt to take an even more all-encompassing approach than the first three disciplines, and being quite comparable to the last one (IoT). Texts on mechatronics may not necessarily dedicate a large part to communications and networking, or to hybrid systems foundations. Textbooks in control theory covering issues such as hybrid systems are still considered relatively advanced and specialized. Robots are obviously great examples of CPSs, illustrating many of the challenges involved in designing innovative CPS products.We will use a ping pong (table tennis) playing robot as a running case study in a project that we will develop incrementally in different chapters. Both CPS and IoT take the view that the world is becoming highly connected and computational, and it is possible that the two approaches will converge. Historically, CPS is seen by some as having emerged from the Control Theory community, whereas IoT as having emerged from the Communications community."
   ]
  }
 ],
 "metadata": {
  "language_info": {
   "name": "python"
  }
 },
 "nbformat": 4,
 "nbformat_minor": 5
}
