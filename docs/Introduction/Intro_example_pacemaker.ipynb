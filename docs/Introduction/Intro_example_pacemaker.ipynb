{
 "cells": [
  {
   "cell_type": "markdown",
   "id": "a99323cf",
   "metadata": {},
   "source": [
    "# CPS Example: Modern Pacemaker"
   ]
  },
  {
   "cell_type": "markdown",
   "id": "4a4c93ac",
   "metadata": {},
   "source": [
    "[Pacemakers](https://www.nhlbi.nih.gov/health/pacemakers) are small devices used to treat heart [arrhythmias](https://www.nhlbi.nih.gov/health/arrhythmias). During an arrhythmia, the heart can beat too fast, too slow, or with an irregular rhythm. Pacemakers send electrical pulses to help your heart beat at a normal rate and rhythm. Pacemakers can also be used to help your heart chambers beat in sync so your heart can pump blood more efficiently to your body. This may be needed if you have heart failure. "
   ]
  },
  {
   "cell_type": "markdown",
   "id": "61223ef4",
   "metadata": {},
   "source": [
    "*Traditional* pacemakers, also called *transvenous pacemakers*, have 3 main parts:\n",
    "- A **pulse generator** creates the electrical pulses,\n",
    "- **Wires**, also called **leads**, are implanted inside the veins and carry the pulses to the heart, and\n",
    "- **Electrodes** sense the natural heartbeat. When the heart beat is slower than normal, the electrodes deliver electrical impulses to the heart to make it beat normally."
   ]
  },
  {
   "cell_type": "markdown",
   "id": "e96d63be",
   "metadata": {},
   "source": [
    "![test](./../imgs/Introduction/images_279.jpg)\n",
    "\n",
    "[Image courtesy](https://www.nhlbi.nih.gov/sites/default/files/inline-images/images_279.jp), Accessed on September 9, 2025"
   ]
  },
  {
   "cell_type": "markdown",
   "id": "09d7648c",
   "metadata": {},
   "source": [
    "A traditional pacemaker generator is placed outside of your heart, either in your chest or abdomen. It is connected via wires to electrodes inside one to three heart chambers. \n",
    "\n",
    "Single- and double-lead pacemakers send pulses to the **right side of the heart**. A biventricular pacemaker sends pulses to both ventricles and an atrium. The pulses help coordinate electrical signaling between the two ventricles to help your heart pump blood. This type of pacemaker is also called a cardiac resynchronization therapy (CRT) device."
   ]
  },
  {
   "cell_type": "markdown",
   "id": "0b994c14",
   "metadata": {},
   "source": [
    "A *leadless*, an example of CPS, is a small, one-piece device that can be inserted to the **right ventricle** of the heart. All parts of a leadless pacemaker are enclosed in one device: there is no separate battery, and there is no need for leads (wires) because the whole device is directly implanted inside the right ventricle."
   ]
  },
  {
   "cell_type": "markdown",
   "id": "043a12cd",
   "metadata": {},
   "source": [
    "![test](./../imgs/Introduction/17166-leadless-pacemaker-illustration.jpg)\n",
    "\n",
    "[Image courtesy](https://my.clevelandclinic.org/health/treatments/17166-pacemakers-leadless-pacemaker), Accessed on September 9, 2025"
   ]
  },
  {
   "cell_type": "markdown",
   "id": "f7cd6f45",
   "metadata": {},
   "source": [
    "In this approach, the device is placed inside the chamber of the heart through a small tube inserted in one of the vein, thus no surgery is needed. The battery life of a leadless pacemaker is up to 10 years or more. Its strength will be checked at follow-up visits. The battery can't be recharged. If the battery gets low, you will need to decide whether to have another procedure to replace the pacemaker."
   ]
  },
  {
   "cell_type": "markdown",
   "id": "45290607",
   "metadata": {},
   "source": [
    "<iframe width=\"560\" height=\"315\" src=\"https://www.youtube.com/embed/1M3vAqRLuy0?si=NtFxsVuAem2sCdP-\" title=\"YouTube video player\" frameborder=\"0\" allow=\"accelerometer; autoplay; clipboard-write; encrypted-media; gyroscope; picture-in-picture; web-share\" referrerpolicy=\"strict-origin-when-cross-origin\" allowfullscreen></iframe>\n",
    " \n",
    "A video from [Mayo Clinic](https://en.wikipedia.org/wiki/Mayo_Clinic) comparing the conventional versus leadless pacemakers (The direct link to YouTube [video](https://youtu.be/1M3vAqRLuy0?si=9dQQqVoKjZzphRsp), accessed September 9, 2025)."
   ]
  },
  {
   "cell_type": "markdown",
   "id": "45d4566d",
   "metadata": {},
   "source": [
    "Based on your understanding of this video, and other sources from your research, what are the advantages or disadvantages of these two types of pacemakers?"
   ]
  }
 ],
 "metadata": {
  "language_info": {
   "name": "python"
  }
 },
 "nbformat": 4,
 "nbformat_minor": 5
}
