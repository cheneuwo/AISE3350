{
 "cells": [
  {
   "cell_type": "markdown",
   "id": "a99323cf",
   "metadata": {},
   "source": [
    "# Math and Physics"
   ]
  },
  {
   "cell_type": "markdown",
   "id": "913901f6",
   "metadata": {},
   "source": [
    "In the previous section, we learned that any CPS has 3 components. The 3Cs are:\n",
    "- **Control**, how we influence the physical world,\n",
    "- **Computation**, how we decide what to do in the cyber world, and\n",
    "- **Communication**, the connection between the cyber and physical worlds.\n",
    "\n",
    "Thus, all CPSs are closely coupled with the physical world. To understand these systems and to build the skills required to develop or enhance new CPSs we need to have some experience with modelling physical systems. Often, it is the physical nature of the problem that will either drive the solution or affect the extend to which a new approach solves the given problem."
   ]
  },
  {
   "cell_type": "markdown",
   "id": "5fa14ca8",
   "metadata": {},
   "source": [
    "The physical phenomena that are useful to model depend on the problem. For different problems, we may wish to model physical, chemical, biological, economic, or even social phenomena. While working on our solution, it can be very helpful to consult specialized textbooks or research papers about modeling any particular phenomena that seem to have a significant effect on the behavior of our system."
   ]
  },
  {
   "cell_type": "markdown",
   "id": "37471e0f",
   "metadata": {},
   "source": [
    "Physics has a particularly important role in the design of CPSs. It encompasses mechanics, electromagnetics, optics, and thermodynamics, all of which are often present even in the realization of the cyber (computational) components of a CPS. Fortunately, understanding the basic principles for such systems can help us both in analyzing real-world problems and in developing the “mathematical muscles” that can help us to learn more about modeling on our own when required."
   ]
  },
  {
   "cell_type": "markdown",
   "id": "98d9f5ab",
   "metadata": {},
   "source": [
    "## Conservation Laws\n",
    "\n",
    "A theme in physical modeling is the presence of conservation laws. These laws are the workhorse of the process of mathematical modeling, so, it is very useful to keep an eye out for them. Examples from mechanical systems include:\n",
    "- Conservation of energy.\n",
    "- Conservation of momentum (translational and rotational).\n",
    "- Conservation of mass.\n",
    "\n",
    "The main example from electrical systems is:\n",
    "- Conservation of current.\n",
    "\n",
    "Deepter principles in physics allow us to connect some of the principles mentioned. For example, the well-known equation $E=m c^2$ allows to connect energy and mass. The importance of these principles stems from their utility in allowing us to model and analyze physical systems."
   ]
  }
 ],
 "metadata": {
  "language_info": {
   "name": "python"
  }
 },
 "nbformat": 4,
 "nbformat_minor": 5
}
