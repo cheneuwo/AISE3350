{
 "cells": [
  {
   "cell_type": "markdown",
   "id": "a99323cf",
   "metadata": {},
   "source": [
    "# Math and Physics"
   ]
  },
  {
   "cell_type": "markdown",
   "id": "6c44f794",
   "metadata": {},
   "source": [
    "How can we use math to predict the behavior of physical systems? In this chapter we cover principles for modeling physical systems; differential equations, with a focus on Ordinary Differential Equations (ODEs); systems of equations; vector calculus; one-, two- and three-dimensional mechanical systems (statics and dynamics); and resistive and linear electric circuits."
   ]
  },
  {
   "cell_type": "markdown",
   "id": "eaab565c",
   "metadata": {},
   "source": [
    "This section is loosely based on Chapter 2 of the following **open-access** book\n",
    "\n",
    "Taha, Walid M., Taha, Abd-Elhamid M., and Thunberg Johan.  \n",
    "2021  \n",
    "Cyber-Physical Systems: A Model-Based Approach  \n",
    "Springer Cham  \n",
    "[https://doi.org/10.1007/978-3-030-36071-9](https://doi.org/10.1007/978-3-030-36071-9)"
   ]
  },
  {
   "cell_type": "markdown",
   "id": "d50d0029",
   "metadata": {},
   "source": [
    "You can download a PDF version of this book [here](https://link.springer.com/content/pdf/10.1007/978-3-030-36071-9.pdf)."
   ]
  }
 ],
 "metadata": {
  "language_info": {
   "name": "python"
  }
 },
 "nbformat": 4,
 "nbformat_minor": 5
}
