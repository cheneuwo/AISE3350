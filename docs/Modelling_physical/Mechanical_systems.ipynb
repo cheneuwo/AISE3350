{
 "cells": [
  {
   "cell_type": "markdown",
   "id": "a99323cf",
   "metadata": {},
   "source": [
    "## Elements in Mechanical Systems"
   ]
  },
  {
   "cell_type": "markdown",
   "id": "63159414",
   "metadata": {},
   "source": [
    "In addition to conservation laws, mechanical and physical systems will have standard\n",
    "elements. Examples in a mechanical system include:"
   ]
  },
  {
   "cell_type": "markdown",
   "id": "ccebedf6",
   "metadata": {},
   "source": [
    "### Mass\n",
    "\n",
    "The basic rule for mass is\n",
    "\n",
    "$$\n",
    "F = m a\n",
    "$$\n",
    "where $F$ denotes force, $m$ denotes mass, and $a$ denotes acceleration. Note that this is **a second order differential equation**, since $a$ is really the second derivative of position with respect to time. Also note that this equations holds when we are in one, two, or three dimensions. In all cases, $F$ and $a$ are both *n$-dimentional vectors where $n$ denotes the dimentionality of the space we are working in, but $m$ always remains a scalar value."
   ]
  },
  {
   "cell_type": "markdown",
   "id": "8a58ba6c",
   "metadata": {},
   "source": [
    "### Force (including gravity)\n",
    "\n",
    "Force is an element that can represent the basic mechanical interaction between two objects. It is also involved in the basic rule $F=ma$. For our purpose it can be through physical contact or the effect of gravity."
   ]
  },
  {
   "cell_type": "markdown",
   "id": "2cc89c38",
   "metadata": {},
   "source": [
    "### Lever\n",
    "\n",
    "Lever is an element that consists of a long rod balanced on a pivot, which has *two* forces applied to it that would individually cause it rotate in opposite directions. The lever is in equilibrium if the torques around the pivot are equal. In the case of the example shown below, \n",
    "\n",
    "```{figure} ./../imgs/Modelling/lever.png\n",
    "---\n",
    "name: figLeverForce\n",
    "---\n",
    "Two masses $m_1$ and $m_2$ are placed on a rod balanced on a pivot. The distances to the pivot, $a$ and $b$, can be chosen so that the system is in equilibrium and does not move.\n",
    "```\n",
    "this means that\n",
    "\n",
    "$$\n",
    "m_1 g a = m_2 g b\n",
    "$$\n",
    "\n",
    "Note that gravity as an acceleration appears as a multiple on both sides of the equation. This implies that\n",
    "- in the rare situation there is no gravity, i.e. in space, $g=0$, and the equation holds for any masses of the objects and lengths of the rod of the lever, or\n",
    "- in non-zero gravity situation, we can simplify the above equation by dividing $g$ on both sides and obtain:\n",
    "\n",
    "$$\n",
    "m_1 a = m_2 b\n",
    "$$"
   ]
  },
  {
   "cell_type": "markdown",
   "id": "e1f81b7f",
   "metadata": {},
   "source": [
    "### Friction\n",
    "\n",
    "Friction is a phenomena that generates a force that opposes the direction of (potential) omvement, and is usually proportional to the normal force that is normal to the direction of the movement (often a surface along which another object is moving).\n",
    "\n",
    "```{figure} ./../imgs/Modelling/friction.png\n",
    "---\n",
    "name: figFriction\n",
    "---\n",
    "A box is pushed with a force $F_{Applied}$ to the right. A force $F_{friction}$ is acting in the opposite direction. The gravitional force is negated by a normal force that points in the opposite direction.\n",
    "```"
   ]
  },
  {
   "cell_type": "markdown",
   "id": "68c26ffa",
   "metadata": {},
   "source": [
    "### Spring\n",
    "\n",
    "The spring is a component that is modelled [Hooke's Law](https://en.wikipedia.org/wiki/Hooke%27s_law), which is usually represented by the equation\n",
    "\n",
    "$$\n",
    "F = -k x\n",
    "$$\n",
    "\n",
    "where $F$ is a force, $x$ is a displacement (or elongation/compression of the spring) relative to a neutral (natural) position (length) for the spring, and $k$ is a (scalar) coefficient called *spring constant* that represents the mechanical property of the spring. The figure below illustrates this behaviour by presenting three instances of the same spring in equilibrium.\n",
    "\n",
    "```{figure} ./../imgs/Modelling/spring.png\n",
    "---\n",
    "name: figSpring\n",
    "---\n",
    "Illustration of [Hooke's law](https://en.wikipedia.org/wiki/Hooke%27s_law). If an object with mass $2m$ is attached to a spring, its length increases by a factor of two as compared to when an object with mass $m$ is attached to the spring.\n",
    "```\n",
    "\n",
    "1. there is no mass attached,\n",
    "1. a single mass with mass $m$ is attached, generation a force with magnetitude of $F$, and\n",
    "1. a double mass with a total mass of $2m$, leading to double the extension seen in the previous example.\n",
    "\n",
    "It is important to note that $F$ and $x$ can be $n$-dimensional; $k$ can be a scalar, or a vector is the mechanical property of the spring is anisotropic."
   ]
  },
  {
   "cell_type": "markdown",
   "id": "743b18ea",
   "metadata": {},
   "source": [
    "### Damper\n",
    "\n",
    "A damper is a device that creates a force against the direction of movement, and in proportion to the speed of the movement (compare this to friction mentioned above). The equation for a damper therefore has the form\n",
    "\n",
    "$$\n",
    "F = -k v\n",
    "$$\n",
    "\n",
    "where $F$ is a force, $k$ is a constant, and $v$ is a velocity. By the nature of the velocity, $v$, this is a differential equation since velocity is the derivative of position with respect to time. The figure below presents a combined example involving a mass, a damper, a spring, and an external force. this example is one-dimensional.\n",
    "\n",
    "\n",
    "```{figure} ./../imgs/Modelling/damper.png\n",
    "---\n",
    "name: figDamper\n",
    "---\n",
    "A system with both a damper and a spring. Dynamic behaviours of such systems will *attenuate over time* and the system converges to a **static** configureation.\n",
    "```\n"
   ]
  },
  {
   "cell_type": "markdown",
   "id": "329d7a55",
   "metadata": {},
   "source": [
    "### Air Resistance\n",
    "\n",
    "Air resistance is a force created by air and applied to any object moving through it. At slow speed (i.e. much less than the speed of sound), it can be viewed as being proportional to the square of the speed. Thus, the formula can be expressed in the one-dimensional case as\n",
    "\n",
    "$$\n",
    "F = -k v \\cdot abs(v)\n",
    "$$\n",
    "\n",
    "The absolute value function, $abs()$ was used to ensure that the resulting value gives the force with the correct sign. In the more generic 3D setting, the equation can be expressed as:\n",
    "\n",
    "$$\n",
    "F = -k v \\cdot abs(v) \\lVert a \\rVert\n",
    "$$\n",
    "\n",
    "\n",
    "```{figure} ./../imgs/Modelling/damper.png\n",
    "---\n",
    "name: figDamper\n",
    "---\n",
    "A system with both a damper and a spring. Dynamic behaviours of such systems will *attenuate over time* and the system converges to a **static** configureation.\n",
    "```\n"
   ]
  }
 ],
 "metadata": {
  "language_info": {
   "name": "python"
  }
 },
 "nbformat": 4,
 "nbformat_minor": 5
}
