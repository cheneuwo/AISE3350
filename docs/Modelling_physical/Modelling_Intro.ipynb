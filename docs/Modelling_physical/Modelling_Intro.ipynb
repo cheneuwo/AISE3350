{
 "cells": [
  {
   "cell_type": "markdown",
   "id": "a99323cf",
   "metadata": {},
   "source": [
    "# Math and Physics"
   ]
  },
  {
   "cell_type": "markdown",
   "id": "6c44f794",
   "metadata": {},
   "source": [
    "How can we use math to predict the behavior of physical systems? In this chapter we cover principles for modeling physical systems; differential equations, with a focus on Ordinary Differential Equations (ODEs); systems of equations; vector calculus; one-, two- and three-dimensional mechanical systems (statics and dynamics); and resistive and linear electric circuits."
   ]
  },
  {
   "cell_type": "markdown",
   "id": "eaab565c",
   "metadata": {},
   "source": [
    "This section is loosely based on Chapter 2 of the following **open-access** book\n",
    "\n",
    "Taha, Walid M., Taha, Abd-Elhamid M., and Thunberg Johan.  \n",
    "2021  \n",
    "Cyber-Physical Systems: A Model-Based Approach  \n",
    "Springer Cham  \n",
    "[https://doi.org/10.1007/978-3-030-36071-9](https://doi.org/10.1007/978-3-030-36071-9)"
   ]
  },
  {
   "cell_type": "markdown",
   "id": "d50d0029",
   "metadata": {},
   "source": [
    "You can download a PDF version of this book [here](https://link.springer.com/content/pdf/10.1007/978-3-030-36071-9.pdf)."
   ]
  },
  {
   "cell_type": "markdown",
   "id": "61ff9b9c",
   "metadata": {},
   "source": [
    "## Terminology\n",
    "\n",
    "- **Plant**: The dynamic system to be controlled.\n",
    "- **Controller**: A device or software that influences the evolution of the plant by taking inputs from *sensors*, comparing them to a desired setpoint (*reference input*), and generating commands for *actuators* to influence the environment/plant and minimize the difference (error) between the actual state and the desired state. The state of the plant may also depend on uncontrollable factors from the environments, called *disturbances*.\n",
    "- **Reference inputs**: Commands from the user that specify the desired behavior or setpoint for the system. The controller responds to these reference inputs and makes decisions based on measurements of the plant provided by *sensors*."
   ]
  },
  {
   "cell_type": "markdown",
   "id": "f68539c2",
   "metadata": {},
   "source": [
    "**Example**: In the thermostat design, the plant is the room whose temperature is to be controlled. The sensor is the thermometer that measures the current temperature. The task of the controller is to regulate the temperature so it stays close to the reference temperature set by the occupant on the thermostat:\n",
    "- The controller influences the temperature by adjusting the heat flow from the furnace.\n",
    "- The plant model, in this case, needs to capture how the temperature of the room changes as a function of the heat flow from the furnace and the difference between the room temperature and the outside (ambient) temperature, which is the uncontrolled *disturbance*."
   ]
  },
  {
   "cell_type": "markdown",
   "id": "7b858050",
   "metadata": {},
   "source": [
    "In the *continuous-time* model, the values of the variables of a dynamic system are updated *continuously* with the passage of time. These variables of a continuous-time component typically range over a compact set such as a closed interval of a set of real numbers with specified unit of measurement. \n",
    "\n",
    "For example, the velocity *v* of a car can be modelled by a variable that ranges over the real numbers in the interval from 0 to 160 km/h."
   ]
  }
 ],
 "metadata": {
  "language_info": {
   "name": "python"
  }
 },
 "nbformat": 4,
 "nbformat_minor": 5
}
